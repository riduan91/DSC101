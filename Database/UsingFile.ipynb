{
 "cells": [
  {
   "cell_type": "markdown",
   "metadata": {},
   "source": [
    "## Data representation"
   ]
  },
  {
   "cell_type": "markdown",
   "metadata": {},
   "source": [
    "### Read file"
   ]
  },
  {
   "cell_type": "code",
   "execution_count": 1,
   "metadata": {},
   "outputs": [
    {
     "data": {
      "text/plain": [
       "'Id,MSSubClass,MSZoning,LotFrontage,LotArea,Street,Alley,LotShape,LandContour,Utilities,LotConfig,LandSlope,Neighborhood,Condition1,Condition2,BldgType,HouseStyle,OverallQual,OverallCond,YearBuilt,YearRemodAdd,RoofStyle,RoofMatl,Exterior1st,Exterior2nd,MasVnrType,MasVnrArea,ExterQual,ExterCond,Foundation,BsmtQual,BsmtCond,BsmtExposure,BsmtFinType1,BsmtFinSF1,BsmtFinType2,BsmtFinSF2,BsmtUnfSF,TotalBsmtSF,Heating,HeatingQC,CentralAir,Electrical,1stFlrSF,2ndFlrSF,LowQualFinSF,GrLivArea,BsmtFullBath,BsmtHalfBath,FullBath,HalfBath,BedroomAbvGr,KitchenAbvGr,KitchenQual,TotRmsAbvGrd,Functional,Fireplaces,FireplaceQu,GarageType,GarageYrBlt,GarageFinish,GarageCars,GarageArea,GarageQual,GarageCond,PavedDrive,WoodDeckSF,OpenPorchSF,EnclosedPorch,3SsnPorch,ScreenPorch,PoolArea,PoolQC,Fence,MiscFeature,MiscVal,MoSold,YrSold,SaleType,SaleCondition,SalePrice\\n1,60,RL,65,8450,Pave,NA,Reg,Lvl,AllPub,Inside,Gtl,CollgCr,Norm,Norm,1Fam,2Story,7,5,2003,2003,Gable,CompShg,VinylSd,VinylSd,BrkFace,196,Gd,TA,PCo'"
      ]
     },
     "execution_count": 1,
     "metadata": {},
     "output_type": "execute_result"
    }
   ],
   "source": [
    "FILE_LOCATION = 'train.csv'\n",
    "\n",
    "myFile = open(FILE_LOCATION)\n",
    "content = myFile.read()\n",
    "content[:1000]"
   ]
  },
  {
   "cell_type": "markdown",
   "metadata": {},
   "source": [
    "### Read line by line"
   ]
  },
  {
   "cell_type": "code",
   "execution_count": 2,
   "metadata": {},
   "outputs": [
    {
     "data": {
      "text/plain": [
       "['Id,MSSubClass,MSZoning,LotFrontage,LotArea,Street,Alley,LotShape,LandContour,Utilities,LotConfig,LandSlope,Neighborhood,Condition1,Condition2,BldgType,HouseStyle,OverallQual,OverallCond,YearBuilt,YearRemodAdd,RoofStyle,RoofMatl,Exterior1st,Exterior2nd,MasVnrType,MasVnrArea,ExterQual,ExterCond,Foundation,BsmtQual,BsmtCond,BsmtExposure,BsmtFinType1,BsmtFinSF1,BsmtFinType2,BsmtFinSF2,BsmtUnfSF,TotalBsmtSF,Heating,HeatingQC,CentralAir,Electrical,1stFlrSF,2ndFlrSF,LowQualFinSF,GrLivArea,BsmtFullBath,BsmtHalfBath,FullBath,HalfBath,BedroomAbvGr,KitchenAbvGr,KitchenQual,TotRmsAbvGrd,Functional,Fireplaces,FireplaceQu,GarageType,GarageYrBlt,GarageFinish,GarageCars,GarageArea,GarageQual,GarageCond,PavedDrive,WoodDeckSF,OpenPorchSF,EnclosedPorch,3SsnPorch,ScreenPorch,PoolArea,PoolQC,Fence,MiscFeature,MiscVal,MoSold,YrSold,SaleType,SaleCondition,SalePrice\\n',\n",
       " '1,60,RL,65,8450,Pave,NA,Reg,Lvl,AllPub,Inside,Gtl,CollgCr,Norm,Norm,1Fam,2Story,7,5,2003,2003,Gable,CompShg,VinylSd,VinylSd,BrkFace,196,Gd,TA,PConc,Gd,TA,No,GLQ,706,Unf,0,150,856,GasA,Ex,Y,SBrkr,856,854,0,1710,1,0,2,1,3,1,Gd,8,Typ,0,NA,Attchd,2003,RFn,2,548,TA,TA,Y,0,61,0,0,0,0,NA,NA,NA,0,2,2008,WD,Normal,208500\\n',\n",
       " '2,20,RL,80,9600,Pave,NA,Reg,Lvl,AllPub,FR2,Gtl,Veenker,Feedr,Norm,1Fam,1Story,6,8,1976,1976,Gable,CompShg,MetalSd,MetalSd,None,0,TA,TA,CBlock,Gd,TA,Gd,ALQ,978,Unf,0,284,1262,GasA,Ex,Y,SBrkr,1262,0,0,1262,0,1,2,0,3,1,TA,6,Typ,1,TA,Attchd,1976,RFn,2,460,TA,TA,Y,298,0,0,0,0,0,NA,NA,NA,0,5,2007,WD,Normal,181500\\n']"
      ]
     },
     "execution_count": 2,
     "metadata": {},
     "output_type": "execute_result"
    }
   ],
   "source": [
    "myFile = open(FILE_LOCATION)\n",
    "myFile.readlines()[:3]"
   ]
  },
  {
   "cell_type": "markdown",
   "metadata": {},
   "source": [
    "### Read as dataframe"
   ]
  },
  {
   "cell_type": "code",
   "execution_count": 3,
   "metadata": {},
   "outputs": [
    {
     "data": {
      "text/html": [
       "<div>\n",
       "<style scoped>\n",
       "    .dataframe tbody tr th:only-of-type {\n",
       "        vertical-align: middle;\n",
       "    }\n",
       "\n",
       "    .dataframe tbody tr th {\n",
       "        vertical-align: top;\n",
       "    }\n",
       "\n",
       "    .dataframe thead th {\n",
       "        text-align: right;\n",
       "    }\n",
       "</style>\n",
       "<table border=\"1\" class=\"dataframe\">\n",
       "  <thead>\n",
       "    <tr style=\"text-align: right;\">\n",
       "      <th></th>\n",
       "      <th>Id</th>\n",
       "      <th>MSSubClass</th>\n",
       "      <th>MSZoning</th>\n",
       "      <th>LotFrontage</th>\n",
       "      <th>LotArea</th>\n",
       "      <th>Street</th>\n",
       "      <th>Alley</th>\n",
       "      <th>LotShape</th>\n",
       "      <th>LandContour</th>\n",
       "      <th>Utilities</th>\n",
       "      <th>...</th>\n",
       "      <th>PoolArea</th>\n",
       "      <th>PoolQC</th>\n",
       "      <th>Fence</th>\n",
       "      <th>MiscFeature</th>\n",
       "      <th>MiscVal</th>\n",
       "      <th>MoSold</th>\n",
       "      <th>YrSold</th>\n",
       "      <th>SaleType</th>\n",
       "      <th>SaleCondition</th>\n",
       "      <th>SalePrice</th>\n",
       "    </tr>\n",
       "  </thead>\n",
       "  <tbody>\n",
       "    <tr>\n",
       "      <th>0</th>\n",
       "      <td>1</td>\n",
       "      <td>60</td>\n",
       "      <td>RL</td>\n",
       "      <td>65.0</td>\n",
       "      <td>8450</td>\n",
       "      <td>Pave</td>\n",
       "      <td>NaN</td>\n",
       "      <td>Reg</td>\n",
       "      <td>Lvl</td>\n",
       "      <td>AllPub</td>\n",
       "      <td>...</td>\n",
       "      <td>0</td>\n",
       "      <td>NaN</td>\n",
       "      <td>NaN</td>\n",
       "      <td>NaN</td>\n",
       "      <td>0</td>\n",
       "      <td>2</td>\n",
       "      <td>2008</td>\n",
       "      <td>WD</td>\n",
       "      <td>Normal</td>\n",
       "      <td>208500</td>\n",
       "    </tr>\n",
       "    <tr>\n",
       "      <th>1</th>\n",
       "      <td>2</td>\n",
       "      <td>20</td>\n",
       "      <td>RL</td>\n",
       "      <td>80.0</td>\n",
       "      <td>9600</td>\n",
       "      <td>Pave</td>\n",
       "      <td>NaN</td>\n",
       "      <td>Reg</td>\n",
       "      <td>Lvl</td>\n",
       "      <td>AllPub</td>\n",
       "      <td>...</td>\n",
       "      <td>0</td>\n",
       "      <td>NaN</td>\n",
       "      <td>NaN</td>\n",
       "      <td>NaN</td>\n",
       "      <td>0</td>\n",
       "      <td>5</td>\n",
       "      <td>2007</td>\n",
       "      <td>WD</td>\n",
       "      <td>Normal</td>\n",
       "      <td>181500</td>\n",
       "    </tr>\n",
       "    <tr>\n",
       "      <th>2</th>\n",
       "      <td>3</td>\n",
       "      <td>60</td>\n",
       "      <td>RL</td>\n",
       "      <td>68.0</td>\n",
       "      <td>11250</td>\n",
       "      <td>Pave</td>\n",
       "      <td>NaN</td>\n",
       "      <td>IR1</td>\n",
       "      <td>Lvl</td>\n",
       "      <td>AllPub</td>\n",
       "      <td>...</td>\n",
       "      <td>0</td>\n",
       "      <td>NaN</td>\n",
       "      <td>NaN</td>\n",
       "      <td>NaN</td>\n",
       "      <td>0</td>\n",
       "      <td>9</td>\n",
       "      <td>2008</td>\n",
       "      <td>WD</td>\n",
       "      <td>Normal</td>\n",
       "      <td>223500</td>\n",
       "    </tr>\n",
       "    <tr>\n",
       "      <th>3</th>\n",
       "      <td>4</td>\n",
       "      <td>70</td>\n",
       "      <td>RL</td>\n",
       "      <td>60.0</td>\n",
       "      <td>9550</td>\n",
       "      <td>Pave</td>\n",
       "      <td>NaN</td>\n",
       "      <td>IR1</td>\n",
       "      <td>Lvl</td>\n",
       "      <td>AllPub</td>\n",
       "      <td>...</td>\n",
       "      <td>0</td>\n",
       "      <td>NaN</td>\n",
       "      <td>NaN</td>\n",
       "      <td>NaN</td>\n",
       "      <td>0</td>\n",
       "      <td>2</td>\n",
       "      <td>2006</td>\n",
       "      <td>WD</td>\n",
       "      <td>Abnorml</td>\n",
       "      <td>140000</td>\n",
       "    </tr>\n",
       "    <tr>\n",
       "      <th>4</th>\n",
       "      <td>5</td>\n",
       "      <td>60</td>\n",
       "      <td>RL</td>\n",
       "      <td>84.0</td>\n",
       "      <td>14260</td>\n",
       "      <td>Pave</td>\n",
       "      <td>NaN</td>\n",
       "      <td>IR1</td>\n",
       "      <td>Lvl</td>\n",
       "      <td>AllPub</td>\n",
       "      <td>...</td>\n",
       "      <td>0</td>\n",
       "      <td>NaN</td>\n",
       "      <td>NaN</td>\n",
       "      <td>NaN</td>\n",
       "      <td>0</td>\n",
       "      <td>12</td>\n",
       "      <td>2008</td>\n",
       "      <td>WD</td>\n",
       "      <td>Normal</td>\n",
       "      <td>250000</td>\n",
       "    </tr>\n",
       "  </tbody>\n",
       "</table>\n",
       "<p>5 rows × 81 columns</p>\n",
       "</div>"
      ],
      "text/plain": [
       "   Id  MSSubClass MSZoning  LotFrontage  LotArea Street Alley LotShape  \\\n",
       "0   1          60       RL         65.0     8450   Pave   NaN      Reg   \n",
       "1   2          20       RL         80.0     9600   Pave   NaN      Reg   \n",
       "2   3          60       RL         68.0    11250   Pave   NaN      IR1   \n",
       "3   4          70       RL         60.0     9550   Pave   NaN      IR1   \n",
       "4   5          60       RL         84.0    14260   Pave   NaN      IR1   \n",
       "\n",
       "  LandContour Utilities    ...     PoolArea PoolQC Fence MiscFeature MiscVal  \\\n",
       "0         Lvl    AllPub    ...            0    NaN   NaN         NaN       0   \n",
       "1         Lvl    AllPub    ...            0    NaN   NaN         NaN       0   \n",
       "2         Lvl    AllPub    ...            0    NaN   NaN         NaN       0   \n",
       "3         Lvl    AllPub    ...            0    NaN   NaN         NaN       0   \n",
       "4         Lvl    AllPub    ...            0    NaN   NaN         NaN       0   \n",
       "\n",
       "  MoSold YrSold  SaleType  SaleCondition  SalePrice  \n",
       "0      2   2008        WD         Normal     208500  \n",
       "1      5   2007        WD         Normal     181500  \n",
       "2      9   2008        WD         Normal     223500  \n",
       "3      2   2006        WD        Abnorml     140000  \n",
       "4     12   2008        WD         Normal     250000  \n",
       "\n",
       "[5 rows x 81 columns]"
      ]
     },
     "execution_count": 3,
     "metadata": {},
     "output_type": "execute_result"
    }
   ],
   "source": [
    "import pandas as pd\n",
    "\n",
    "df = pd.read_csv(FILE_LOCATION, sep=',')\n",
    "df.head()"
   ]
  },
  {
   "cell_type": "markdown",
   "metadata": {},
   "source": [
    "## Service 1: Find some houses based on some criteria"
   ]
  },
  {
   "cell_type": "code",
   "execution_count": 4,
   "metadata": {},
   "outputs": [
    {
     "data": {
      "text/plain": [
       "{'Blmngtn',\n",
       " 'Blueste',\n",
       " 'BrDale',\n",
       " 'BrkSide',\n",
       " 'ClearCr',\n",
       " 'CollgCr',\n",
       " 'Crawfor',\n",
       " 'Edwards',\n",
       " 'Gilbert',\n",
       " 'IDOTRR',\n",
       " 'MeadowV',\n",
       " 'Mitchel',\n",
       " 'NAmes',\n",
       " 'NPkVill',\n",
       " 'NWAmes',\n",
       " 'NoRidge',\n",
       " 'NridgHt',\n",
       " 'OldTown',\n",
       " 'SWISU',\n",
       " 'Sawyer',\n",
       " 'SawyerW',\n",
       " 'Somerst',\n",
       " 'StoneBr',\n",
       " 'Timber',\n",
       " 'Veenker'}"
      ]
     },
     "execution_count": 4,
     "metadata": {},
     "output_type": "execute_result"
    }
   ],
   "source": [
    "set(df['Neighborhood'].values)"
   ]
  },
  {
   "cell_type": "code",
   "execution_count": 5,
   "metadata": {},
   "outputs": [
    {
     "data": {
      "text/plain": [
       "[[600, 'Blueste', 'Pave'], [957, 'Blueste', 'Pave']]"
      ]
     },
     "execution_count": 5,
     "metadata": {},
     "output_type": "execute_result"
    }
   ],
   "source": [
    "def find(criterion):\n",
    "    df = pd.read_csv(FILE_LOCATION, sep=',')\n",
    "    results = []\n",
    "    for idx, house in df.iterrows():\n",
    "        kept = True\n",
    "        record = [house['Id']]\n",
    "        for k, V in criterion.items():\n",
    "            if house[k] != V:\n",
    "                kept = False\n",
    "            else:\n",
    "                record.append(V)\n",
    "        if kept:\n",
    "            results.append(record)\n",
    "    return results\n",
    "\n",
    "find({'Neighborhood': 'Blueste', 'Street': 'Pave'})"
   ]
  },
  {
   "cell_type": "markdown",
   "metadata": {},
   "source": [
    "** Is it fast? **\n",
    "\n",
    "No if we have to parse the file everytime and no index/dictionary/hashmap to find the records quickly."
   ]
  },
  {
   "cell_type": "markdown",
   "metadata": {},
   "source": [
    "## Service 2: Learn and Store Parameter\n",
    "\n",
    "We want to use linear regression to predict house price based on lot area, year sold"
   ]
  },
  {
   "cell_type": "code",
   "execution_count": 6,
   "metadata": {},
   "outputs": [],
   "source": [
    "import os\n",
    "os.remove('model1.txt')"
   ]
  },
  {
   "cell_type": "code",
   "execution_count": 7,
   "metadata": {},
   "outputs": [
    {
     "data": {
      "text/plain": [
       "(array([8.92693417e-01, 7.60214636e+03]), -15078478.009327307)"
      ]
     },
     "execution_count": 7,
     "metadata": {},
     "output_type": "execute_result"
    }
   ],
   "source": [
    "import numpy as np\n",
    "from sklearn.linear_model import LinearRegression\n",
    "\n",
    "\n",
    "def train(neighborhood, modelFile):\n",
    "    df = pd.read_csv(FILE_LOCATION, sep=',')\n",
    "    \n",
    "    X_train = []\n",
    "    y_train = []\n",
    "    for idx, house in df.iterrows():\n",
    "        if house['Neighborhood'] == neighborhood:\n",
    "            X_train.append([house['LotArea'], house['YrSold']])\n",
    "            y_train.append(house['SalePrice'])\n",
    "    X_train = np.array(X_train)\n",
    "    y_train = np.array(y_train)\n",
    "    model = LinearRegression()\n",
    "    model.fit(X_train, y_train)\n",
    "    f = open(modelFile, 'a')\n",
    "    f.write( ','.join([neighborhood, str(model.coef_[0]), str(model.coef_[1]), str(model.intercept_) + '\\n']))\n",
    "    f.close()\n",
    "    return model.coef_, model.intercept_\n",
    "\n",
    "train('OldTown', 'model1.txt')\n",
    "train('ClearCr', 'model1.txt')"
   ]
  },
  {
   "cell_type": "code",
   "execution_count": 8,
   "metadata": {},
   "outputs": [
    {
     "name": "stdout",
     "output_type": "stream",
     "text": [
      "['OldTown,9.999908577139136,-756.5748650874622,1565197.0723577144\\n', 'ClearCr,0.8926934169569567,7602.146359807243,-15078478.009327307\\n']\n"
     ]
    }
   ],
   "source": [
    "f = open('model1.txt')\n",
    "print(f.readlines())\n",
    "f.close()"
   ]
  },
  {
   "cell_type": "markdown",
   "metadata": {},
   "source": [
    "## Service 3: Prediction"
   ]
  },
  {
   "cell_type": "code",
   "execution_count": 9,
   "metadata": {},
   "outputs": [],
   "source": [
    "TEST_FILE_LOCATION = 'test.csv'"
   ]
  },
  {
   "cell_type": "code",
   "execution_count": 10,
   "metadata": {},
   "outputs": [
    {
     "data": {
      "text/plain": [
       "array([ 92481.15470218,  89331.18350038, 102531.06282221, 113480.96271418,\n",
       "       162990.51007959, 126870.84029896, 141040.71075277, 140480.71587245,\n",
       "       134480.77072617, 134930.76661214, 150080.6281065 , 105681.03402401,\n",
       "       125420.85355528, 173480.41417701,  75161.31304658,  99937.66831395,\n",
       "       153237.18103011, 126697.42366638, 147537.23314114, 149337.21668502,\n",
       "       117237.5101524 ,  99237.67471355, 153237.18103011, 153237.18103011,\n",
       "        86037.79539173, 148307.22610158, 201836.736715  , 144237.26331068,\n",
       "       109297.58274216, 121507.47111484, 146577.24191773, 105237.61985984,\n",
       "       119277.49150214, 104487.62671655, 130437.38947423, 141237.29073754,\n",
       "       129237.40044497,  81237.8392747 ,  78237.86670156,  99237.67471355,\n",
       "       142437.27976679, 126177.42842037, 144517.26075084,  75237.89412842,\n",
       "       102987.64042998, 103757.63339042, 147213.81787989, 121054.0570421 ,\n",
       "        99994.24957864, 154353.75260397, 144353.84402683, 137833.90363454,\n",
       "        93994.30443236,  93994.30443236, 105994.19472493, 160253.69866448,\n",
       "       122274.04588851, 119074.07514382,  99994.24957864, 153993.75589519,\n",
       "       113554.12560924, 105134.20258729, 135993.92045634, 119104.07486955,\n",
       "       168043.62744607, 137413.9074743 ,  99494.25414978, 137423.90738287,\n",
       "       141993.86560263, 105994.19472493, 159393.70652685, 153993.75589519,\n",
       "       143493.8518892 , 131153.96470501, 107194.18375418, 126934.00328545,\n",
       "        89464.34584691, 204579.87520016, 188650.02083678, 149590.37793448,\n",
       "       154750.33076028, 116530.68017845, 106750.76959001,  91550.90855276,\n",
       "        78281.0298709 , 118750.65988258, 136750.49532143, 106000.77644673,\n",
       "       143140.43690222, 150120.37308906, 145380.4164235 ,  92460.90023328,\n",
       "       130730.55035799,  82750.98900488, 181750.08391856, 133010.52951358,\n",
       "       164750.23933742, 124300.60914289, 103750.79701687, 103550.79884533,\n",
       "       103550.79884533, 268865.86925582, 151606.94128028, 117587.25230086,\n",
       "       119507.23474767, 155686.90397976, 146066.99192855, 143507.0153328 ,\n",
       "       102707.38833807, 143507.0153328 , 112017.30322339,  87107.53095774,\n",
       "       124957.18492221, 124917.1852879 , 103837.37800729, 119507.23474767,\n",
       "       123647.1968986 , 107507.3444551 , 107507.3444551 , 125807.17715126,\n",
       "       143267.01752695, 104977.36758508, 110507.31702824, 107267.34664925,\n",
       "       145007.00161937, 378704.86506711])"
      ]
     },
     "execution_count": 10,
     "metadata": {},
     "output_type": "execute_result"
    }
   ],
   "source": [
    "def predict(neighborhood, modelFile):\n",
    "    df = pd.read_csv(TEST_FILE_LOCATION, sep=',')\n",
    "    \n",
    "    X_pred = []\n",
    "    for idx, house in df.iterrows():\n",
    "        if house['Neighborhood'] == neighborhood:\n",
    "            X_pred.append([house['LotArea'], house['YrSold']])\n",
    "    X_pred = np.array(X_pred)\n",
    "    model = LinearRegression()\n",
    "    \n",
    "    save_models = pd.read_csv(modelFile, header=None, sep=',').values\n",
    "    for save_model in save_models:\n",
    "        if save_model[0] == neighborhood:\n",
    "            model.coef_ = np.array([save_model[1], save_model[2]])\n",
    "            model.intercept_ = save_model[3]\n",
    "    return model.predict(X_pred)\n",
    "\n",
    "predict('OldTown', 'model1.txt')"
   ]
  },
  {
   "cell_type": "markdown",
   "metadata": {},
   "source": [
    "# Using database"
   ]
  },
  {
   "cell_type": "code",
   "execution_count": 11,
   "metadata": {},
   "outputs": [
    {
     "name": "stdout",
     "output_type": "stream",
     "text": [
      "<mysql.connector.connection.MySQLConnection object at 0x000001DCE2C13940>\n"
     ]
    }
   ],
   "source": [
    "import mysql.connector\n",
    "\n",
    "mydb = mysql.connector.connect(\n",
    "  host=\"52.37.193.91\",\n",
    "  port=\"3306\",\n",
    "  user=\"dbuser\",\n",
    "  passwd=\"dbuser789\"\n",
    ")\n",
    "\n",
    "print(mydb)"
   ]
  },
  {
   "cell_type": "markdown",
   "metadata": {},
   "source": [
    "## Service 1: Find some houses based on some criteria"
   ]
  },
  {
   "cell_type": "code",
   "execution_count": 12,
   "metadata": {},
   "outputs": [
    {
     "name": "stdout",
     "output_type": "stream",
     "text": [
      "Sending query to database\n",
      "SELECT Id, Neighborhood, Street FROM train WHERE Neighborhood = 'Blueste' AND Street = 'Pave' AND 1;\n"
     ]
    },
    {
     "data": {
      "text/html": [
       "<div>\n",
       "<style scoped>\n",
       "    .dataframe tbody tr th:only-of-type {\n",
       "        vertical-align: middle;\n",
       "    }\n",
       "\n",
       "    .dataframe tbody tr th {\n",
       "        vertical-align: top;\n",
       "    }\n",
       "\n",
       "    .dataframe thead th {\n",
       "        text-align: right;\n",
       "    }\n",
       "</style>\n",
       "<table border=\"1\" class=\"dataframe\">\n",
       "  <thead>\n",
       "    <tr style=\"text-align: right;\">\n",
       "      <th></th>\n",
       "      <th>0</th>\n",
       "      <th>1</th>\n",
       "      <th>2</th>\n",
       "    </tr>\n",
       "  </thead>\n",
       "  <tbody>\n",
       "    <tr>\n",
       "      <th>0</th>\n",
       "      <td>600</td>\n",
       "      <td>Blueste</td>\n",
       "      <td>Pave</td>\n",
       "    </tr>\n",
       "    <tr>\n",
       "      <th>1</th>\n",
       "      <td>957</td>\n",
       "      <td>Blueste</td>\n",
       "      <td>Pave</td>\n",
       "    </tr>\n",
       "  </tbody>\n",
       "</table>\n",
       "</div>"
      ],
      "text/plain": [
       "     0        1     2\n",
       "0  600  Blueste  Pave\n",
       "1  957  Blueste  Pave"
      ]
     },
     "execution_count": 12,
     "metadata": {},
     "output_type": "execute_result"
    }
   ],
   "source": [
    "mydb = mysql.connector.connect(\n",
    "  host=\"52.37.193.91\",\n",
    "  port=\"3306\",\n",
    "  user=\"dbuser\",\n",
    "  passwd=\"dbuser789\",\n",
    "  database=\"housing\"\n",
    ")\n",
    "\n",
    "def find_db(db, criterion):\n",
    "    query = \"SELECT Id, \"\n",
    "    query += \", \".join(criterion.keys())\n",
    "    query += \" FROM train WHERE \"        \n",
    "    for k, V in criterion.items():\n",
    "        query += k + \" = '\" + V + \"' AND \"\n",
    "    \n",
    "    query += \"1;\"\n",
    "    print(\"Sending query to database\")\n",
    "    print(query)\n",
    "    \n",
    "    mycursor = mydb.cursor()\n",
    "    mycursor.execute(query)\n",
    "    myresult = pd.DataFrame(mycursor.fetchall())\n",
    "    \n",
    "    return myresult\n",
    "\n",
    "find_db(mydb, {'Neighborhood': 'Blueste', 'Street': 'Pave'})"
   ]
  },
  {
   "cell_type": "markdown",
   "metadata": {},
   "source": [
    "## Service 2: Learn and Store Parameter"
   ]
  },
  {
   "cell_type": "code",
   "execution_count": 13,
   "metadata": {},
   "outputs": [
    {
     "name": "stdout",
     "output_type": "stream",
     "text": [
      "SELECT LotArea, YrSold, SalePrice FROM train WHERE Neighborhood = 'OldTown';\n",
      "CREATE TABLE IF NOT EXISTS model (neighborhood VARCHAR(255), w1 FLOAT(20,5), w2 FLOAT(20, 5), b FLOAT(20, 5));\n",
      "INSERT INTO model VALUES ('OldTown', 9.999908577139136, -756.5748650874622, 1565197.0723577144);\n",
      "SELECT LotArea, YrSold, SalePrice FROM train WHERE Neighborhood = 'ClearCr';\n",
      "CREATE TABLE IF NOT EXISTS model (neighborhood VARCHAR(255), w1 FLOAT(20,5), w2 FLOAT(20, 5), b FLOAT(20, 5));\n",
      "INSERT INTO model VALUES ('ClearCr', 0.8926934169569567, 7602.146359807243, -15078478.009327307);\n"
     ]
    }
   ],
   "source": [
    "mydb = mysql.connector.connect(\n",
    "  host=\"52.37.193.91\",\n",
    "  port=\"3306\",\n",
    "  user=\"dbuser\",\n",
    "  passwd=\"dbuser789\",\n",
    "  database=\"housing\"\n",
    ")\n",
    "\n",
    "def train_db(neighborhood, db):\n",
    "    query = \"SELECT LotArea, YrSold, SalePrice FROM train WHERE Neighborhood = '\" + neighborhood + \"';\"\n",
    "    print(query)\n",
    "    mycursor = db.cursor()\n",
    "    mycursor.execute(query)\n",
    "    myresult = mycursor.fetchall()\n",
    "    X = np.array(myresult)  \n",
    "    X_train = X[:, :-1]\n",
    "    y_train = X[:, -1]\n",
    "    \n",
    "    query2 = \"CREATE TABLE IF NOT EXISTS model (neighborhood VARCHAR(255), w1 FLOAT(20,5), w2 FLOAT(20, 5), b FLOAT(20, 5));\"\n",
    "    print(query2)\n",
    "    mycursor.execute(query2)\n",
    "    db.commit()\n",
    "    \n",
    "    model = LinearRegression()\n",
    "    model.fit(X_train, y_train)\n",
    "    \n",
    "    query3 = \"INSERT INTO model VALUES ('\" + neighborhood + \"', \" + str(model.coef_[0]) + \", \" + str(model.coef_[1]) + \", \" + str(model.intercept_) + \");\"\n",
    "    print(query3)\n",
    "    mycursor.execute(query3)\n",
    "    db.commit()\n",
    "    return\n",
    "\n",
    "train_db('OldTown', mydb)\n",
    "train_db('ClearCr', mydb)"
   ]
  },
  {
   "cell_type": "markdown",
   "metadata": {},
   "source": [
    "## Service 3: Prediction"
   ]
  },
  {
   "cell_type": "code",
   "execution_count": 14,
   "metadata": {},
   "outputs": [
    {
     "name": "stdout",
     "output_type": "stream",
     "text": [
      "['OldTown' '9.99991' '-756.57489' '1565197.125']\n",
      "SELECT LotArea, YrSold FROM test WHERE Neighborhood = 'OldTown';\n"
     ]
    },
    {
     "data": {
      "text/plain": [
       "array([ 92481.1641 ,  89331.19245, 102531.07365, 113480.9751 ,\n",
       "       162990.52951, 126870.85459, 141040.72706, 140480.7321 ,\n",
       "       134480.7861 , 134930.78205, 150080.6457 , 105681.0453 ,\n",
       "       125420.86764, 173480.4351 ,  75161.31998,  99937.67869,\n",
       "       153237.19899, 126697.43785, 147537.25029, 149337.23409,\n",
       "       117237.52299,  99237.68499, 153237.19899, 153237.19899,\n",
       "        86037.80379, 148307.24336, 201836.76159, 144237.27999,\n",
       "       109297.59445, 121507.48456, 146577.25893, 105237.63099,\n",
       "       119277.50463, 104487.63774, 130437.40419, 141237.30699,\n",
       "       129237.41499,  81237.84699,  78237.87399,  99237.68499,\n",
       "       142437.29619, 126177.44253, 144517.27747,  75237.90099,\n",
       "       102987.65124, 103757.64431, 147213.8349 , 121054.07034,\n",
       "        99994.25988, 154353.77064, 144353.86064, 137833.91932,\n",
       "        93994.31388,  93994.31388, 105994.20588, 160253.71754,\n",
       "       122274.05936, 119074.08816,  99994.25988, 153993.77388,\n",
       "       113554.13784, 105134.21362, 135993.93588, 119104.08789,\n",
       "       168043.64743, 137413.9231 ,  99494.26438, 137423.92301,\n",
       "       141993.88188, 105994.20588, 159393.72528, 153993.77388,\n",
       "       143493.86838, 131153.97944, 107194.19508, 126934.01742,\n",
       "        89464.35465, 204579.9003 , 188650.04367, 149590.39521,\n",
       "       154750.34877, 116530.69275, 106750.78077,  91550.91757,\n",
       "        78281.037  , 118750.67277, 136750.51077, 106000.78752,\n",
       "       143140.45326, 150120.39044, 145380.4331 ,  92460.90938,\n",
       "       130730.56495,  82750.99677, 181750.10577, 133010.54443,\n",
       "       164750.25877, 124300.62282, 103750.80777, 103550.80957,\n",
       "       103550.80957, 268865.90342, 151606.95876, 117587.26494,\n",
       "       119507.24766, 155686.92204, 146067.00862, 143507.03166,\n",
       "       102707.39886, 143507.03166, 112017.31507,  87107.53926,\n",
       "       124957.19861, 124917.19897, 103837.38869, 119507.24766,\n",
       "       123647.2104 , 107507.35566, 107507.35566, 125807.19096,\n",
       "       143267.03382, 104977.37843, 110507.32866, 107267.35782,\n",
       "       145007.01816, 378704.91486])"
      ]
     },
     "execution_count": 14,
     "metadata": {},
     "output_type": "execute_result"
    }
   ],
   "source": [
    "\n",
    "def prediction_db(neighborhood, db):\n",
    "    mycursor = db.cursor()\n",
    "    mycursor.execute(\"SELECT * FROM model WHERE neighborhood = '\" + neighborhood +\"';\")\n",
    "    params = np.array(mycursor.fetchone())\n",
    "    print(params)\n",
    "    \n",
    "    query2 = \"SELECT LotArea, YrSold FROM test WHERE Neighborhood = '\" + neighborhood + \"';\"\n",
    "    print(query2)\n",
    "    mycursor2 = db.cursor()\n",
    "    mycursor2.execute(query2)\n",
    "    myresult2 = mycursor2.fetchall()\n",
    "    X_test = np.array(myresult2)  \n",
    "    \n",
    "    model = LinearRegression()\n",
    "    model.coef_ = params[1:3].astype(float)\n",
    "    model.intercept_ = params[3].astype(float)\n",
    "    \n",
    "    return model.predict(X_test)\n",
    "\n",
    "prediction_db(\"OldTown\", mydb)"
   ]
  },
  {
   "cell_type": "code",
   "execution_count": null,
   "metadata": {},
   "outputs": [],
   "source": []
  }
 ],
 "metadata": {
  "kernelspec": {
   "display_name": "Python 3",
   "language": "python",
   "name": "python3"
  },
  "language_info": {
   "codemirror_mode": {
    "name": "ipython",
    "version": 3
   },
   "file_extension": ".py",
   "mimetype": "text/x-python",
   "name": "python",
   "nbconvert_exporter": "python",
   "pygments_lexer": "ipython3",
   "version": "3.5.5"
  }
 },
 "nbformat": 4,
 "nbformat_minor": 2
}
